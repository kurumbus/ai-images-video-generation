{
 "cells": [
  {
   "cell_type": "code",
   "id": "initial_id",
   "metadata": {
    "collapsed": true,
    "ExecuteTime": {
     "end_time": "2024-09-16T10:23:06.712433Z",
     "start_time": "2024-09-16T10:22:28.410033Z"
    }
   },
   "source": [
    "from mpmath.libmp.libintmath import ifac2\n",
    "!pip install gradio"
   ],
   "outputs": [
    {
     "name": "stdout",
     "output_type": "stream",
     "text": [
      "Collecting gradio\n",
      "  Downloading gradio-4.44.0-py3-none-any.whl.metadata (15 kB)\n",
      "Collecting aiofiles<24.0,>=22.0 (from gradio)\n",
      "  Downloading aiofiles-23.2.1-py3-none-any.whl.metadata (9.7 kB)\n",
      "Requirement already satisfied: anyio<5.0,>=3.0 in c:\\code\\ai-images-video-generation\\.venv\\lib\\site-packages (from gradio) (4.4.0)\n",
      "Collecting fastapi<1.0 (from gradio)\n",
      "  Downloading fastapi-0.114.2-py3-none-any.whl.metadata (27 kB)\n",
      "Collecting ffmpy (from gradio)\n",
      "  Downloading ffmpy-0.4.0-py3-none-any.whl.metadata (2.9 kB)\n",
      "Collecting gradio-client==1.3.0 (from gradio)\n",
      "  Downloading gradio_client-1.3.0-py3-none-any.whl.metadata (7.1 kB)\n",
      "Requirement already satisfied: httpx>=0.24.1 in c:\\code\\ai-images-video-generation\\.venv\\lib\\site-packages (from gradio) (0.27.2)\n",
      "Requirement already satisfied: huggingface-hub>=0.19.3 in c:\\code\\ai-images-video-generation\\.venv\\lib\\site-packages (from gradio) (0.24.7)\n",
      "Collecting importlib-resources<7.0,>=1.3 (from gradio)\n",
      "  Downloading importlib_resources-6.4.5-py3-none-any.whl.metadata (4.0 kB)\n",
      "Requirement already satisfied: jinja2<4.0 in c:\\code\\ai-images-video-generation\\.venv\\lib\\site-packages (from gradio) (3.1.4)\n",
      "Requirement already satisfied: markupsafe~=2.0 in c:\\code\\ai-images-video-generation\\.venv\\lib\\site-packages (from gradio) (2.1.5)\n",
      "Requirement already satisfied: matplotlib~=3.0 in c:\\code\\ai-images-video-generation\\.venv\\lib\\site-packages (from gradio) (3.9.2)\n",
      "Requirement already satisfied: numpy<3.0,>=1.0 in c:\\code\\ai-images-video-generation\\.venv\\lib\\site-packages (from gradio) (2.1.1)\n",
      "Collecting orjson~=3.0 (from gradio)\n",
      "  Downloading orjson-3.10.7-cp311-none-win_amd64.whl.metadata (51 kB)\n",
      "Requirement already satisfied: packaging in c:\\code\\ai-images-video-generation\\.venv\\lib\\site-packages (from gradio) (24.1)\n",
      "Collecting pandas<3.0,>=1.0 (from gradio)\n",
      "  Downloading pandas-2.2.2-cp311-cp311-win_amd64.whl.metadata (19 kB)\n",
      "Requirement already satisfied: pillow<11.0,>=8.0 in c:\\code\\ai-images-video-generation\\.venv\\lib\\site-packages (from gradio) (10.4.0)\n",
      "Collecting pydantic>=2.0 (from gradio)\n",
      "  Downloading pydantic-2.9.1-py3-none-any.whl.metadata (146 kB)\n",
      "Collecting pydub (from gradio)\n",
      "  Using cached pydub-0.25.1-py2.py3-none-any.whl.metadata (1.4 kB)\n",
      "Collecting python-multipart>=0.0.9 (from gradio)\n",
      "  Downloading python_multipart-0.0.9-py3-none-any.whl.metadata (2.5 kB)\n",
      "Requirement already satisfied: pyyaml<7.0,>=5.0 in c:\\code\\ai-images-video-generation\\.venv\\lib\\site-packages (from gradio) (6.0.2)\n",
      "Collecting ruff>=0.2.2 (from gradio)\n",
      "  Downloading ruff-0.6.5-py3-none-win_amd64.whl.metadata (25 kB)\n",
      "Collecting semantic-version~=2.0 (from gradio)\n",
      "  Downloading semantic_version-2.10.0-py2.py3-none-any.whl.metadata (9.7 kB)\n",
      "Collecting tomlkit==0.12.0 (from gradio)\n",
      "  Downloading tomlkit-0.12.0-py3-none-any.whl.metadata (2.7 kB)\n",
      "Collecting typer<1.0,>=0.12 (from gradio)\n",
      "  Downloading typer-0.12.5-py3-none-any.whl.metadata (15 kB)\n",
      "Requirement already satisfied: typing-extensions~=4.0 in c:\\code\\ai-images-video-generation\\.venv\\lib\\site-packages (from gradio) (4.12.2)\n",
      "Requirement already satisfied: urllib3~=2.0 in c:\\code\\ai-images-video-generation\\.venv\\lib\\site-packages (from gradio) (2.2.3)\n",
      "Collecting uvicorn>=0.14.0 (from gradio)\n",
      "  Downloading uvicorn-0.30.6-py3-none-any.whl.metadata (6.6 kB)\n",
      "Requirement already satisfied: fsspec in c:\\code\\ai-images-video-generation\\.venv\\lib\\site-packages (from gradio-client==1.3.0->gradio) (2024.9.0)\n",
      "Collecting websockets<13.0,>=10.0 (from gradio-client==1.3.0->gradio)\n",
      "  Downloading websockets-12.0-cp311-cp311-win_amd64.whl.metadata (6.8 kB)\n",
      "Requirement already satisfied: idna>=2.8 in c:\\code\\ai-images-video-generation\\.venv\\lib\\site-packages (from anyio<5.0,>=3.0->gradio) (3.8)\n",
      "Requirement already satisfied: sniffio>=1.1 in c:\\code\\ai-images-video-generation\\.venv\\lib\\site-packages (from anyio<5.0,>=3.0->gradio) (1.3.1)\n",
      "Collecting starlette<0.39.0,>=0.37.2 (from fastapi<1.0->gradio)\n",
      "  Downloading starlette-0.38.5-py3-none-any.whl.metadata (6.0 kB)\n",
      "Requirement already satisfied: certifi in c:\\code\\ai-images-video-generation\\.venv\\lib\\site-packages (from httpx>=0.24.1->gradio) (2024.8.30)\n",
      "Requirement already satisfied: httpcore==1.* in c:\\code\\ai-images-video-generation\\.venv\\lib\\site-packages (from httpx>=0.24.1->gradio) (1.0.5)\n",
      "Requirement already satisfied: h11<0.15,>=0.13 in c:\\code\\ai-images-video-generation\\.venv\\lib\\site-packages (from httpcore==1.*->httpx>=0.24.1->gradio) (0.14.0)\n",
      "Requirement already satisfied: filelock in c:\\code\\ai-images-video-generation\\.venv\\lib\\site-packages (from huggingface-hub>=0.19.3->gradio) (3.16.0)\n",
      "Requirement already satisfied: requests in c:\\code\\ai-images-video-generation\\.venv\\lib\\site-packages (from huggingface-hub>=0.19.3->gradio) (2.32.3)\n",
      "Requirement already satisfied: tqdm>=4.42.1 in c:\\code\\ai-images-video-generation\\.venv\\lib\\site-packages (from huggingface-hub>=0.19.3->gradio) (4.66.5)\n",
      "Requirement already satisfied: contourpy>=1.0.1 in c:\\code\\ai-images-video-generation\\.venv\\lib\\site-packages (from matplotlib~=3.0->gradio) (1.3.0)\n",
      "Requirement already satisfied: cycler>=0.10 in c:\\code\\ai-images-video-generation\\.venv\\lib\\site-packages (from matplotlib~=3.0->gradio) (0.12.1)\n",
      "Requirement already satisfied: fonttools>=4.22.0 in c:\\code\\ai-images-video-generation\\.venv\\lib\\site-packages (from matplotlib~=3.0->gradio) (4.53.1)\n",
      "Requirement already satisfied: kiwisolver>=1.3.1 in c:\\code\\ai-images-video-generation\\.venv\\lib\\site-packages (from matplotlib~=3.0->gradio) (1.4.7)\n",
      "Requirement already satisfied: pyparsing>=2.3.1 in c:\\code\\ai-images-video-generation\\.venv\\lib\\site-packages (from matplotlib~=3.0->gradio) (3.1.4)\n",
      "Requirement already satisfied: python-dateutil>=2.7 in c:\\code\\ai-images-video-generation\\.venv\\lib\\site-packages (from matplotlib~=3.0->gradio) (2.9.0.post0)\n",
      "Collecting pytz>=2020.1 (from pandas<3.0,>=1.0->gradio)\n",
      "  Downloading pytz-2024.2-py2.py3-none-any.whl.metadata (22 kB)\n",
      "Collecting tzdata>=2022.7 (from pandas<3.0,>=1.0->gradio)\n",
      "  Downloading tzdata-2024.1-py2.py3-none-any.whl.metadata (1.4 kB)\n",
      "Collecting annotated-types>=0.6.0 (from pydantic>=2.0->gradio)\n",
      "  Downloading annotated_types-0.7.0-py3-none-any.whl.metadata (15 kB)\n",
      "Collecting pydantic-core==2.23.3 (from pydantic>=2.0->gradio)\n",
      "  Downloading pydantic_core-2.23.3-cp311-none-win_amd64.whl.metadata (6.7 kB)\n",
      "Collecting click>=8.0.0 (from typer<1.0,>=0.12->gradio)\n",
      "  Downloading click-8.1.7-py3-none-any.whl.metadata (3.0 kB)\n",
      "Collecting shellingham>=1.3.0 (from typer<1.0,>=0.12->gradio)\n",
      "  Downloading shellingham-1.5.4-py2.py3-none-any.whl.metadata (3.5 kB)\n",
      "Collecting rich>=10.11.0 (from typer<1.0,>=0.12->gradio)\n",
      "  Downloading rich-13.8.1-py3-none-any.whl.metadata (18 kB)\n",
      "Requirement already satisfied: colorama in c:\\code\\ai-images-video-generation\\.venv\\lib\\site-packages (from click>=8.0.0->typer<1.0,>=0.12->gradio) (0.4.6)\n",
      "Requirement already satisfied: six>=1.5 in c:\\code\\ai-images-video-generation\\.venv\\lib\\site-packages (from python-dateutil>=2.7->matplotlib~=3.0->gradio) (1.16.0)\n",
      "Collecting markdown-it-py>=2.2.0 (from rich>=10.11.0->typer<1.0,>=0.12->gradio)\n",
      "  Downloading markdown_it_py-3.0.0-py3-none-any.whl.metadata (6.9 kB)\n",
      "Requirement already satisfied: pygments<3.0.0,>=2.13.0 in c:\\code\\ai-images-video-generation\\.venv\\lib\\site-packages (from rich>=10.11.0->typer<1.0,>=0.12->gradio) (2.18.0)\n",
      "Requirement already satisfied: charset-normalizer<4,>=2 in c:\\code\\ai-images-video-generation\\.venv\\lib\\site-packages (from requests->huggingface-hub>=0.19.3->gradio) (3.3.2)\n",
      "Collecting mdurl~=0.1 (from markdown-it-py>=2.2.0->rich>=10.11.0->typer<1.0,>=0.12->gradio)\n",
      "  Downloading mdurl-0.1.2-py3-none-any.whl.metadata (1.6 kB)\n",
      "Downloading gradio-4.44.0-py3-none-any.whl (18.1 MB)\n",
      "   ---------------------------------------- 0.0/18.1 MB ? eta -:--:--\n",
      "   --------------------------------- ------ 15.2/18.1 MB 73.6 MB/s eta 0:00:01\n",
      "   ---------------------------------------- 18.1/18.1 MB 63.4 MB/s eta 0:00:00\n",
      "Downloading gradio_client-1.3.0-py3-none-any.whl (318 kB)\n",
      "Downloading tomlkit-0.12.0-py3-none-any.whl (37 kB)\n",
      "Downloading aiofiles-23.2.1-py3-none-any.whl (15 kB)\n",
      "Downloading fastapi-0.114.2-py3-none-any.whl (94 kB)\n",
      "Downloading importlib_resources-6.4.5-py3-none-any.whl (36 kB)\n",
      "Downloading orjson-3.10.7-cp311-none-win_amd64.whl (137 kB)\n",
      "Downloading pandas-2.2.2-cp311-cp311-win_amd64.whl (11.6 MB)\n",
      "   ---------------------------------------- 0.0/11.6 MB ? eta -:--:--\n",
      "   ---------------------------------------- 11.6/11.6 MB 60.5 MB/s eta 0:00:00\n",
      "Downloading pydantic-2.9.1-py3-none-any.whl (434 kB)\n",
      "Downloading pydantic_core-2.23.3-cp311-none-win_amd64.whl (1.9 MB)\n",
      "   ---------------------------------------- 0.0/1.9 MB ? eta -:--:--\n",
      "   ---------------------------------------- 1.9/1.9 MB 53.4 MB/s eta 0:00:00\n",
      "Downloading python_multipart-0.0.9-py3-none-any.whl (22 kB)\n",
      "Downloading ruff-0.6.5-py3-none-win_amd64.whl (8.8 MB)\n",
      "   ---------------------------------------- 0.0/8.8 MB ? eta -:--:--\n",
      "   ---------------------------------------- 8.8/8.8 MB 61.0 MB/s eta 0:00:00\n",
      "Downloading semantic_version-2.10.0-py2.py3-none-any.whl (15 kB)\n",
      "Downloading typer-0.12.5-py3-none-any.whl (47 kB)\n",
      "Downloading uvicorn-0.30.6-py3-none-any.whl (62 kB)\n",
      "Downloading ffmpy-0.4.0-py3-none-any.whl (5.8 kB)\n",
      "Using cached pydub-0.25.1-py2.py3-none-any.whl (32 kB)\n",
      "Downloading annotated_types-0.7.0-py3-none-any.whl (13 kB)\n",
      "Downloading click-8.1.7-py3-none-any.whl (97 kB)\n",
      "Downloading pytz-2024.2-py2.py3-none-any.whl (508 kB)\n",
      "Downloading rich-13.8.1-py3-none-any.whl (241 kB)\n",
      "Downloading shellingham-1.5.4-py2.py3-none-any.whl (9.8 kB)\n",
      "Downloading starlette-0.38.5-py3-none-any.whl (71 kB)\n",
      "Downloading tzdata-2024.1-py2.py3-none-any.whl (345 kB)\n",
      "Downloading websockets-12.0-cp311-cp311-win_amd64.whl (124 kB)\n",
      "Downloading markdown_it_py-3.0.0-py3-none-any.whl (87 kB)\n",
      "Downloading mdurl-0.1.2-py3-none-any.whl (10.0 kB)\n",
      "Installing collected packages: pytz, pydub, websockets, tzdata, tomlkit, shellingham, semantic-version, ruff, python-multipart, pydantic-core, orjson, mdurl, importlib-resources, ffmpy, click, annotated-types, aiofiles, uvicorn, starlette, pydantic, pandas, markdown-it-py, rich, gradio-client, fastapi, typer, gradio\n",
      "Successfully installed aiofiles-23.2.1 annotated-types-0.7.0 click-8.1.7 fastapi-0.114.2 ffmpy-0.4.0 gradio-4.44.0 gradio-client-1.3.0 importlib-resources-6.4.5 markdown-it-py-3.0.0 mdurl-0.1.2 orjson-3.10.7 pandas-2.2.2 pydantic-2.9.1 pydantic-core-2.23.3 pydub-0.25.1 python-multipart-0.0.9 pytz-2024.2 rich-13.8.1 ruff-0.6.5 semantic-version-2.10.0 shellingham-1.5.4 starlette-0.38.5 tomlkit-0.12.0 typer-0.12.5 tzdata-2024.1 uvicorn-0.30.6 websockets-12.0\n"
     ]
    }
   ],
   "execution_count": 1
  },
  {
   "metadata": {
    "ExecuteTime": {
     "end_time": "2024-09-16T10:46:07.973584Z",
     "start_time": "2024-09-16T10:46:07.969286Z"
    }
   },
   "cell_type": "code",
   "source": [
    "def add_numbers(x,y):\n",
    "    return x+y"
   ],
   "id": "5cf30e8124bac357",
   "outputs": [],
   "execution_count": 2
  },
  {
   "metadata": {
    "ExecuteTime": {
     "end_time": "2024-09-16T10:47:03.028584Z",
     "start_time": "2024-09-16T10:46:58.596610Z"
    }
   },
   "cell_type": "code",
   "source": "import gradio as gr",
   "id": "ec3b883e6d3d4851",
   "outputs": [],
   "execution_count": 3
  },
  {
   "metadata": {
    "ExecuteTime": {
     "end_time": "2024-09-16T10:49:34.284293Z",
     "start_time": "2024-09-16T10:49:33.482004Z"
    }
   },
   "cell_type": "code",
   "source": [
    "iface = gr.Interface(fn=add_numbers,\n",
    "                     inputs=[gr.Number(10), gr.Number()], \n",
    "                     outputs = gr.Number())\n",
    "iface.launch()"
   ],
   "id": "9ad4a673a76f9e02",
   "outputs": [
    {
     "name": "stdout",
     "output_type": "stream",
     "text": [
      "Running on local URL:  http://127.0.0.1:7860\n",
      "\n",
      "To create a public link, set `share=True` in `launch()`.\n"
     ]
    },
    {
     "data": {
      "text/plain": [
       "<IPython.core.display.HTML object>"
      ],
      "text/html": [
       "<div><iframe src=\"http://127.0.0.1:7860/\" width=\"100%\" height=\"500\" allow=\"autoplay; camera; microphone; clipboard-read; clipboard-write;\" frameborder=\"0\" allowfullscreen></iframe></div>"
      ]
     },
     "metadata": {},
     "output_type": "display_data"
    },
    {
     "data": {
      "text/plain": []
     },
     "execution_count": 4,
     "metadata": {},
     "output_type": "execute_result"
    }
   ],
   "execution_count": 4
  },
  {
   "metadata": {
    "ExecuteTime": {
     "end_time": "2024-09-16T12:54:41.355012Z",
     "start_time": "2024-09-16T12:54:41.009835Z"
    }
   },
   "cell_type": "code",
   "source": [
    "def reverse_text(input_text):\n",
    "    return input_text[::-1]\n",
    "\n",
    "iface2 = gr.Interface(fn=reverse_text, inputs=[gr.Text()], outputs=gr.Text())\n",
    "iface2.launch()"
   ],
   "id": "d457d335fc2565ca",
   "outputs": [
    {
     "name": "stdout",
     "output_type": "stream",
     "text": [
      "Running on local URL:  http://127.0.0.1:7861\n",
      "\n",
      "To create a public link, set `share=True` in `launch()`.\n"
     ]
    },
    {
     "data": {
      "text/plain": [
       "<IPython.core.display.HTML object>"
      ],
      "text/html": [
       "<div><iframe src=\"http://127.0.0.1:7861/\" width=\"100%\" height=\"500\" allow=\"autoplay; camera; microphone; clipboard-read; clipboard-write;\" frameborder=\"0\" allowfullscreen></iframe></div>"
      ]
     },
     "metadata": {},
     "output_type": "display_data"
    },
    {
     "data": {
      "text/plain": []
     },
     "execution_count": 5,
     "metadata": {},
     "output_type": "execute_result"
    }
   ],
   "execution_count": 5
  },
  {
   "metadata": {
    "ExecuteTime": {
     "end_time": "2024-09-16T12:56:40.627054Z",
     "start_time": "2024-09-16T12:56:40.279124Z"
    }
   },
   "cell_type": "code",
   "source": [
    "def slider_example(input_text):\n",
    "    return f\"Slider Current value is {input_text}\"\n",
    "\n",
    "iface3 = gr.Interface(fn=slider_example, inputs=[gr.Slider(minimum=0, maximum=100, step=5)], outputs=gr.Text())\n",
    "iface3.launch()"
   ],
   "id": "ad35c54810c8facb",
   "outputs": [
    {
     "name": "stdout",
     "output_type": "stream",
     "text": [
      "Running on local URL:  http://127.0.0.1:7863\n",
      "\n",
      "To create a public link, set `share=True` in `launch()`.\n"
     ]
    },
    {
     "data": {
      "text/plain": [
       "<IPython.core.display.HTML object>"
      ],
      "text/html": [
       "<div><iframe src=\"http://127.0.0.1:7863/\" width=\"100%\" height=\"500\" allow=\"autoplay; camera; microphone; clipboard-read; clipboard-write;\" frameborder=\"0\" allowfullscreen></iframe></div>"
      ]
     },
     "metadata": {},
     "output_type": "display_data"
    },
    {
     "data": {
      "text/plain": []
     },
     "execution_count": 7,
     "metadata": {},
     "output_type": "execute_result"
    }
   ],
   "execution_count": 7
  },
  {
   "metadata": {
    "ExecuteTime": {
     "end_time": "2024-09-16T12:58:02.442739Z",
     "start_time": "2024-09-16T12:58:02.047131Z"
    }
   },
   "cell_type": "code",
   "source": [
    "def dropdown_example(input_text):\n",
    "    return f\"Dropdown Current value is {input_text}\"\n",
    "\n",
    "options = ['a', 'b', 'c', 'd', 'e']\n",
    "iface4 = gr.Interface(fn=dropdown_example, inputs=[gr.Dropdown(choices=options)], outputs=gr.Text())\n",
    "iface4.launch()"
   ],
   "id": "4e5d4403e5f615e8",
   "outputs": [
    {
     "name": "stdout",
     "output_type": "stream",
     "text": [
      "Running on local URL:  http://127.0.0.1:7866\n",
      "\n",
      "To create a public link, set `share=True` in `launch()`.\n"
     ]
    },
    {
     "data": {
      "text/plain": [
       "<IPython.core.display.HTML object>"
      ],
      "text/html": [
       "<div><iframe src=\"http://127.0.0.1:7866/\" width=\"100%\" height=\"500\" allow=\"autoplay; camera; microphone; clipboard-read; clipboard-write;\" frameborder=\"0\" allowfullscreen></iframe></div>"
      ]
     },
     "metadata": {},
     "output_type": "display_data"
    },
    {
     "data": {
      "text/plain": []
     },
     "execution_count": 10,
     "metadata": {},
     "output_type": "execute_result"
    }
   ],
   "execution_count": 10
  },
  {
   "metadata": {
    "ExecuteTime": {
     "end_time": "2024-09-16T13:04:05.652897Z",
     "start_time": "2024-09-16T13:04:05.258245Z"
    }
   },
   "cell_type": "code",
   "source": [
    "from PIL import Image\n",
    "\n",
    "def convert(image_path):\n",
    "    image = Image.open(image_path)\n",
    "    gray_image = image.convert('L')\n",
    "    return gray_image\n",
    "\n",
    "iface_image  = gr.Interface(fn=convert, inputs=[gr.Image(type='filepath')], outputs=gr.Image())\n",
    "iface_image.launch()"
   ],
   "id": "181b0bb9e8dda94c",
   "outputs": [
    {
     "name": "stdout",
     "output_type": "stream",
     "text": [
      "Running on local URL:  http://127.0.0.1:7872\n",
      "\n",
      "To create a public link, set `share=True` in `launch()`.\n"
     ]
    },
    {
     "data": {
      "text/plain": [
       "<IPython.core.display.HTML object>"
      ],
      "text/html": [
       "<div><iframe src=\"http://127.0.0.1:7872/\" width=\"100%\" height=\"500\" allow=\"autoplay; camera; microphone; clipboard-read; clipboard-write;\" frameborder=\"0\" allowfullscreen></iframe></div>"
      ]
     },
     "metadata": {},
     "output_type": "display_data"
    },
    {
     "data": {
      "text/plain": []
     },
     "execution_count": 16,
     "metadata": {},
     "output_type": "execute_result"
    }
   ],
   "execution_count": 16
  },
  {
   "metadata": {
    "ExecuteTime": {
     "end_time": "2024-09-16T13:07:50.952769Z",
     "start_time": "2024-09-16T13:07:50.601220Z"
    }
   },
   "cell_type": "code",
   "source": [
    "4def number_details(number):\n",
    "    details = {\n",
    "        'original': number,\n",
    "        'squared': number ** 2,\n",
    "        'sqrt': number ** 0.5,\n",
    "        'is_even': number % 2 == 0\n",
    "    }\n",
    "    return details\n",
    "\n",
    "iface_num_details = gr.Interface(fn=number_details, inputs=[gr.Number()], outputs=gr.Json())\n",
    "iface_num_details.launch()"
   ],
   "id": "6411ade69b149062",
   "outputs": [
    {
     "name": "stdout",
     "output_type": "stream",
     "text": [
      "Running on local URL:  http://127.0.0.1:7873\n",
      "\n",
      "To create a public link, set `share=True` in `launch()`.\n"
     ]
    },
    {
     "data": {
      "text/plain": [
       "<IPython.core.display.HTML object>"
      ],
      "text/html": [
       "<div><iframe src=\"http://127.0.0.1:7873/\" width=\"100%\" height=\"500\" allow=\"autoplay; camera; microphone; clipboard-read; clipboard-write;\" frameborder=\"0\" allowfullscreen></iframe></div>"
      ]
     },
     "metadata": {},
     "output_type": "display_data"
    },
    {
     "data": {
      "text/plain": []
     },
     "execution_count": 19,
     "metadata": {},
     "output_type": "execute_result"
    }
   ],
   "execution_count": 19
  },
  {
   "metadata": {
    "ExecuteTime": {
     "end_time": "2024-09-16T13:09:40.065973Z",
     "start_time": "2024-09-16T13:09:39.717121Z"
    }
   },
   "cell_type": "code",
   "source": [
    "def classify_number(number):\n",
    "    if number > 0: return 'Positive'\n",
    "    elif number < 0: return 'Negative'\n",
    "    else: return 'Zero'\n",
    "    \n",
    "iface_classify = gr.Interface(fn=classify_number, inputs=[gr.Number()], outputs=gr.Label())\n",
    "iface_classify.launch()"
   ],
   "id": "a286ef1420afa9ae",
   "outputs": [
    {
     "name": "stdout",
     "output_type": "stream",
     "text": [
      "Running on local URL:  http://127.0.0.1:7874\n",
      "\n",
      "To create a public link, set `share=True` in `launch()`.\n"
     ]
    },
    {
     "data": {
      "text/plain": [
       "<IPython.core.display.HTML object>"
      ],
      "text/html": [
       "<div><iframe src=\"http://127.0.0.1:7874/\" width=\"100%\" height=\"500\" allow=\"autoplay; camera; microphone; clipboard-read; clipboard-write;\" frameborder=\"0\" allowfullscreen></iframe></div>"
      ]
     },
     "metadata": {},
     "output_type": "display_data"
    },
    {
     "data": {
      "text/plain": []
     },
     "execution_count": 20,
     "metadata": {},
     "output_type": "execute_result"
    }
   ],
   "execution_count": 20
  },
  {
   "metadata": {
    "ExecuteTime": {
     "end_time": "2024-09-17T15:26:15.347536Z",
     "start_time": "2024-09-17T15:26:14.921246Z"
    }
   },
   "cell_type": "code",
   "source": [
    "import gradio as gr\n",
    "\n",
    "with gr.Blocks() as demo:\n",
    "    with gr.Tab('Tab one'):\n",
    "        with gr.Row():\n",
    "            gr.Text(value='OUTPUT ONE')\n",
    "            gr.Text(value='OUTPUT TWO')\n",
    "        with gr.Row():\n",
    "            with gr.Column(scale=3):\n",
    "                text1 = gr.Text(value='Row 2 Col 0 comp1')\n",
    "                text2 = gr.Text(value='Row 2 Col 0 comp2')\n",
    "            with gr.Column(scale=1):\n",
    "                text3 = gr.Text(value='Row 2 Col 1 comp1')\n",
    "                text4 = gr.Text(value='Row 2 Col 1 comp2')\n",
    "        with gr.Row():\n",
    "            gr.Text(value='BOTTOM ROW')\n",
    "    with gr.Tab('Tab one'):\n",
    "        with gr.Row():\n",
    "            gr.Text(value='INPUT IN TAB2')\n",
    "\n",
    "demo.launch()"
   ],
   "id": "d766e40dc6f64b6",
   "outputs": [
    {
     "name": "stdout",
     "output_type": "stream",
     "text": [
      "Running on local URL:  http://127.0.0.1:7869\n",
      "\n",
      "Thanks for being a Gradio user! If you have questions or feedback, please join our Discord server and chat with us: https://discord.gg/feTf9x3ZSB\n",
      "\n",
      "To create a public link, set `share=True` in `launch()`.\n"
     ]
    },
    {
     "data": {
      "text/plain": [
       "<IPython.core.display.HTML object>"
      ],
      "text/html": [
       "<div><iframe src=\"http://127.0.0.1:7869/\" width=\"100%\" height=\"500\" allow=\"autoplay; camera; microphone; clipboard-read; clipboard-write;\" frameborder=\"0\" allowfullscreen></iframe></div>"
      ]
     },
     "metadata": {},
     "output_type": "display_data"
    },
    {
     "data": {
      "text/plain": []
     },
     "execution_count": 10,
     "metadata": {},
     "output_type": "execute_result"
    }
   ],
   "execution_count": 10
  },
  {
   "metadata": {
    "ExecuteTime": {
     "end_time": "2024-09-17T15:30:20.785164Z",
     "start_time": "2024-09-17T15:30:20.438568Z"
    }
   },
   "cell_type": "code",
   "source": [
    "with gr.Blocks() as demo2:\n",
    "    gr.Label('Label Here')\n",
    "    with gr.Accordion('Accordion here', open=False):\n",
    "        gr.Image()\n",
    "    \n",
    "demo2.launch()"
   ],
   "id": "e192e4e850c5df17",
   "outputs": [
    {
     "name": "stdout",
     "output_type": "stream",
     "text": [
      "Running on local URL:  http://127.0.0.1:7870\n",
      "\n",
      "To create a public link, set `share=True` in `launch()`.\n"
     ]
    },
    {
     "data": {
      "text/plain": [
       "<IPython.core.display.HTML object>"
      ],
      "text/html": [
       "<div><iframe src=\"http://127.0.0.1:7870/\" width=\"100%\" height=\"500\" allow=\"autoplay; camera; microphone; clipboard-read; clipboard-write;\" frameborder=\"0\" allowfullscreen></iframe></div>"
      ]
     },
     "metadata": {},
     "output_type": "display_data"
    },
    {
     "data": {
      "text/plain": []
     },
     "execution_count": 11,
     "metadata": {},
     "output_type": "execute_result"
    }
   ],
   "execution_count": 11
  },
  {
   "metadata": {},
   "cell_type": "code",
   "source": [
    "import gradio as gr\n",
    "\n",
    "css = \"\"\"\n",
    ".yourClass {\n",
    "    height: 1000px;\n",
    "    background-color: red;\n",
    "}\n",
    "\"\"\"\n",
    "\n",
    "with gr.Blocks() as demo:\n",
    "    with gr.Group(elem_classes=['yourClass']):\n",
    "        gr.Button('Button Component 1')\n",
    "        gr.Button('Button Component 2')\n",
    "        gr.Image()\n",
    "    gr.Image(width=200, height=600)\n",
    "    \n",
    "demo.launch()"
   ],
   "id": "bcc4e2c73476cdcb",
   "outputs": [],
   "execution_count": null
  },
  {
   "metadata": {
    "ExecuteTime": {
     "end_time": "2024-09-21T05:35:30.228082Z",
     "start_time": "2024-09-21T05:35:30.213047Z"
    }
   },
   "cell_type": "code",
   "source": [
    "def multiply(x, y):\n",
    "    return x*y"
   ],
   "id": "8040e3873e48a571",
   "outputs": [],
   "execution_count": 1
  },
  {
   "metadata": {
    "ExecuteTime": {
     "end_time": "2024-09-21T05:40:39.518096Z",
     "start_time": "2024-09-21T05:40:38.502818Z"
    }
   },
   "cell_type": "code",
   "source": [
    "import gradio as gr\n",
    "\n",
    "with gr.Blocks() as app:\n",
    "    with gr.Row():\n",
    "        x_slider = gr.Slider(minimum=0, maximum=10, label='X')\n",
    "        y_slider = gr.Slider(minimum=0, maximum=10, label='Y')\n",
    "    with gr.Row():\n",
    "        result = gr.Text()\n",
    "        \n",
    "    with gr.Row():\n",
    "        button = gr.Button('Multiply')\n",
    "    \n",
    "    x_slider.change(fn=multiply,inputs=[x_slider, y_slider], outputs=result)\n",
    "    y_slider.change(fn=multiply,inputs=[x_slider, y_slider], outputs=result)\n",
    "    button.click(fn=multiply,inputs=[x_slider, y_slider], outputs=result)\n",
    "    \n",
    "app.launch()"
   ],
   "id": "7bbbc90dd983fa7b",
   "outputs": [
    {
     "name": "stdout",
     "output_type": "stream",
     "text": [
      "Running on local URL:  http://127.0.0.1:7864\n",
      "\n",
      "To create a public link, set `share=True` in `launch()`.\n"
     ]
    },
    {
     "data": {
      "text/plain": [
       "<IPython.core.display.HTML object>"
      ],
      "text/html": [
       "<div><iframe src=\"http://127.0.0.1:7864/\" width=\"100%\" height=\"500\" allow=\"autoplay; camera; microphone; clipboard-read; clipboard-write;\" frameborder=\"0\" allowfullscreen></iframe></div>"
      ]
     },
     "metadata": {},
     "output_type": "display_data"
    },
    {
     "data": {
      "text/plain": []
     },
     "execution_count": 8,
     "metadata": {},
     "output_type": "execute_result"
    }
   ],
   "execution_count": 8
  },
  {
   "metadata": {
    "ExecuteTime": {
     "end_time": "2024-09-21T05:46:50.808078Z",
     "start_time": "2024-09-21T05:46:50.802528Z"
    }
   },
   "cell_type": "code",
   "source": [
    "from PIL import Image\n",
    "\n",
    "\n",
    "def convert_grayscale(image_path):\n",
    "    image = Image.open(image_path)\n",
    "    gray_image = image.convert('L')\n",
    "    return gray_image, 'Image Converted to Grayscale'    "
   ],
   "id": "62ba391d4478378c",
   "outputs": [],
   "execution_count": 12
  },
  {
   "metadata": {
    "ExecuteTime": {
     "end_time": "2024-09-21T05:46:53.930875Z",
     "start_time": "2024-09-21T05:46:53.079131Z"
    }
   },
   "cell_type": "code",
   "source": [
    "import gradio as gr\n",
    "\n",
    "\n",
    "with gr.Blocks() as demo:\n",
    "    with gr.Row():\n",
    "        input_image = gr.Image(type='filepath')\n",
    "        output_image = gr.Image()\n",
    "    with gr.Row():\n",
    "        log = gr.Text()\n",
    "        submit = gr.Button('Convert')\n",
    "    \n",
    "    submit.click(fn=convert_grayscale, inputs=[input_image], outputs=[output_image, log])\n",
    "    \n",
    "demo.launch()"
   ],
   "id": "1158b5552fbb1a3e",
   "outputs": [
    {
     "name": "stdout",
     "output_type": "stream",
     "text": [
      "Running on local URL:  http://127.0.0.1:7866\n",
      "\n",
      "To create a public link, set `share=True` in `launch()`.\n"
     ]
    },
    {
     "data": {
      "text/plain": [
       "<IPython.core.display.HTML object>"
      ],
      "text/html": [
       "<div><iframe src=\"http://127.0.0.1:7866/\" width=\"100%\" height=\"500\" allow=\"autoplay; camera; microphone; clipboard-read; clipboard-write;\" frameborder=\"0\" allowfullscreen></iframe></div>"
      ]
     },
     "metadata": {},
     "output_type": "display_data"
    },
    {
     "data": {
      "text/plain": []
     },
     "execution_count": 13,
     "metadata": {},
     "output_type": "execute_result"
    }
   ],
   "execution_count": 13
  },
  {
   "metadata": {
    "ExecuteTime": {
     "end_time": "2024-09-21T05:51:53.587648Z",
     "start_time": "2024-09-21T05:51:52.753373Z"
    }
   },
   "cell_type": "code",
   "source": [
    "class Operations():\n",
    "    def __init__(self):\n",
    "        pass\n",
    "    \n",
    "    def multiply(self, x,y):\n",
    "        return x*y\n",
    "    \n",
    "    def add(self, x,y):\n",
    "        return x+y\n",
    "\n",
    "operations_object = Operations()\n",
    "\n",
    "with gr.Blocks() as app:\n",
    "    with gr.Row():\n",
    "        x = gr.Slider(minimum=0, maximum=10)\n",
    "        y = gr.Slider(minimum=0, maximum=10)\n",
    "    with gr.Row():\n",
    "        result_of_add = gr.Text(label='add')\n",
    "        result_of_multiply = gr.Text('multiply')\n",
    "    with gr.Row():\n",
    "        button_add = gr.Button('Add')\n",
    "        button_multiply = gr.Button('Multiply')\n",
    "\n",
    "        \n",
    "    button_add.click(fn=operations_object.add, inputs=[x,y], outputs=result_of_add)\n",
    "    button_multiply.click(fn=operations_object.multiply, inputs=[x,y], outputs=result_of_multiply)\n",
    "\n",
    "\n",
    "app.launch()"
   ],
   "id": "8fdc3b1f77fee94",
   "outputs": [
    {
     "name": "stdout",
     "output_type": "stream",
     "text": [
      "Running on local URL:  http://127.0.0.1:7871\n",
      "\n",
      "To create a public link, set `share=True` in `launch()`.\n"
     ]
    },
    {
     "data": {
      "text/plain": [
       "<IPython.core.display.HTML object>"
      ],
      "text/html": [
       "<div><iframe src=\"http://127.0.0.1:7871/\" width=\"100%\" height=\"500\" allow=\"autoplay; camera; microphone; clipboard-read; clipboard-write;\" frameborder=\"0\" allowfullscreen></iframe></div>"
      ]
     },
     "metadata": {},
     "output_type": "display_data"
    },
    {
     "data": {
      "text/plain": []
     },
     "execution_count": 18,
     "metadata": {},
     "output_type": "execute_result"
    }
   ],
   "execution_count": 18
  },
  {
   "metadata": {
    "ExecuteTime": {
     "end_time": "2024-09-21T06:28:55.033048Z",
     "start_time": "2024-09-21T06:28:24.783403Z"
    }
   },
   "cell_type": "code",
   "source": [
    "\n",
    "from transformers import AutoImageProcessor, AutoModelForImageClassification\n",
    "\n",
    "processor = AutoImageProcessor.from_pretrained(\"microsoft/resnet-18\")\n",
    "model = AutoModelForImageClassification.from_pretrained(\"microsoft/resnet-18\")"
   ],
   "id": "56b83e9622b8d02a",
   "outputs": [
    {
     "data": {
      "text/plain": [
       "preprocessor_config.json:   0%|          | 0.00/266 [00:00<?, ?B/s]"
      ],
      "application/vnd.jupyter.widget-view+json": {
       "version_major": 2,
       "version_minor": 0,
       "model_id": "73ed579b5c7641059dc6559d79484a39"
      }
     },
     "metadata": {},
     "output_type": "display_data"
    },
    {
     "name": "stderr",
     "output_type": "stream",
     "text": [
      "C:\\code\\ai-images-video-generation\\.venv\\Lib\\site-packages\\huggingface_hub\\file_download.py:159: UserWarning: `huggingface_hub` cache-system uses symlinks by default to efficiently store duplicated files but your machine does not support them in C:\\Users\\grigo\\.cache\\huggingface\\hub\\models--microsoft--resnet-18. Caching files will still work but in a degraded version that might require more space on your disk. This warning can be disabled by setting the `HF_HUB_DISABLE_SYMLINKS_WARNING` environment variable. For more details, see https://huggingface.co/docs/huggingface_hub/how-to-cache#limitations.\n",
      "To support symlinks on Windows, you either need to activate Developer Mode or to run Python as an administrator. In order to see activate developer mode, see this article: https://docs.microsoft.com/en-us/windows/apps/get-started/enable-your-device-for-development\n",
      "  warnings.warn(message)\n"
     ]
    },
    {
     "data": {
      "text/plain": [
       "config.json:   0%|          | 0.00/69.5k [00:00<?, ?B/s]"
      ],
      "application/vnd.jupyter.widget-view+json": {
       "version_major": 2,
       "version_minor": 0,
       "model_id": "c67d9599e4144df29b5d1aa1e728925a"
      }
     },
     "metadata": {},
     "output_type": "display_data"
    },
    {
     "data": {
      "text/plain": [
       "model.safetensors:   0%|          | 0.00/46.8M [00:00<?, ?B/s]"
      ],
      "application/vnd.jupyter.widget-view+json": {
       "version_major": 2,
       "version_minor": 0,
       "model_id": "da6483403d4c40c7a9f9087956c90bc9"
      }
     },
     "metadata": {},
     "output_type": "display_data"
    }
   ],
   "execution_count": 19
  },
  {
   "metadata": {
    "ExecuteTime": {
     "end_time": "2024-09-21T06:40:11.790161Z",
     "start_time": "2024-09-21T06:40:11.006901Z"
    }
   },
   "cell_type": "code",
   "source": [
    "import gradio as gr\n",
    "\n",
    "def classify_image(image):\n",
    "    image = processor(image, return_tensors=\"pt\")['pixel_values']\n",
    "    logits = model(image).logits\n",
    "    predicted_class_idx = logits.argmax(-1).item()\n",
    "    \n",
    "    return model.config.id2label[predicted_class_idx]\n",
    "    \n",
    "    \n",
    "iface = gr.Interface(fn=classify_image, inputs=[gr.Image()], outputs=gr.Label(), title='RES NET 18', description = 'Upload an image')\n",
    "\n",
    "iface.launch()"
   ],
   "id": "b2682d987032a8b0",
   "outputs": [
    {
     "name": "stdout",
     "output_type": "stream",
     "text": [
      "Running on local URL:  http://127.0.0.1:7872\n",
      "\n",
      "Thanks for being a Gradio user! If you have questions or feedback, please join our Discord server and chat with us: https://discord.gg/feTf9x3ZSB\n",
      "\n",
      "To create a public link, set `share=True` in `launch()`.\n"
     ]
    },
    {
     "data": {
      "text/plain": [
       "<IPython.core.display.HTML object>"
      ],
      "text/html": [
       "<div><iframe src=\"http://127.0.0.1:7872/\" width=\"100%\" height=\"500\" allow=\"autoplay; camera; microphone; clipboard-read; clipboard-write;\" frameborder=\"0\" allowfullscreen></iframe></div>"
      ]
     },
     "metadata": {},
     "output_type": "display_data"
    },
    {
     "data": {
      "text/plain": []
     },
     "execution_count": 21,
     "metadata": {},
     "output_type": "execute_result"
    }
   ],
   "execution_count": 21
  },
  {
   "metadata": {
    "ExecuteTime": {
     "end_time": "2024-09-21T07:07:16.027471Z",
     "start_time": "2024-09-21T07:07:15.687335Z"
    }
   },
   "cell_type": "code",
   "source": [
    "import gradio as gr\n",
    "from transformers import pipeline\n",
    "\n",
    "sentiment_analysis = pipeline(\"sentiment-analysis\")"
   ],
   "id": "b43e7f5311c226ae",
   "outputs": [
    {
     "name": "stderr",
     "output_type": "stream",
     "text": [
      "No model was supplied, defaulted to distilbert/distilbert-base-uncased-finetuned-sst-2-english and revision af0f99b (https://huggingface.co/distilbert/distilbert-base-uncased-finetuned-sst-2-english).\n",
      "Using a pipeline without specifying a model name and revision in production is not recommended.\n",
      "C:\\code\\ai-images-video-generation\\.venv\\Lib\\site-packages\\transformers\\tokenization_utils_base.py:1601: FutureWarning: `clean_up_tokenization_spaces` was not set. It will be set to `True` by default. This behavior will be depracted in transformers v4.45, and will be then set to `False` by default. For more details check this issue: https://github.com/huggingface/transformers/issues/31884\n",
      "  warnings.warn(\n"
     ]
    }
   ],
   "execution_count": 26
  },
  {
   "metadata": {
    "ExecuteTime": {
     "end_time": "2024-09-21T06:59:34.287870Z",
     "start_time": "2024-09-21T06:59:34.157914Z"
    }
   },
   "cell_type": "code",
   "source": [
    "def predict_sentiment(text):\n",
    "    result = sentiment_analysis(text)\n",
    "    return result[0]['label'], result[0]['score']\n",
    "\n",
    "\n",
    "predict_sentiment('i am happy')"
   ],
   "id": "1f811f9ed05ee21",
   "outputs": [
    {
     "data": {
      "text/plain": [
       "('POSITIVE', 0.9998801946640015)"
      ]
     },
     "execution_count": 23,
     "metadata": {},
     "output_type": "execute_result"
    }
   ],
   "execution_count": 23
  },
  {
   "metadata": {
    "ExecuteTime": {
     "end_time": "2024-09-21T07:01:11.044333Z",
     "start_time": "2024-09-21T07:01:10.661388Z"
    }
   },
   "cell_type": "code",
   "source": [
    "iface = gr.Interface(fn=predict_sentiment, inputs=gr.Textbox(lines=2, placeholder='Type your text here!'), outputs=[gr.Text(label='Sentiment'), gr.Text(label='Score')])\n",
    "\n",
    "iface.launch()"
   ],
   "id": "fa5284af60b93d69",
   "outputs": [
    {
     "name": "stdout",
     "output_type": "stream",
     "text": [
      "Running on local URL:  http://127.0.0.1:7873\n",
      "\n",
      "To create a public link, set `share=True` in `launch()`.\n"
     ]
    },
    {
     "data": {
      "text/plain": [
       "<IPython.core.display.HTML object>"
      ],
      "text/html": [
       "<div><iframe src=\"http://127.0.0.1:7873/\" width=\"100%\" height=\"500\" allow=\"autoplay; camera; microphone; clipboard-read; clipboard-write;\" frameborder=\"0\" allowfullscreen></iframe></div>"
      ]
     },
     "metadata": {},
     "output_type": "display_data"
    },
    {
     "data": {
      "text/plain": []
     },
     "execution_count": 25,
     "metadata": {},
     "output_type": "execute_result"
    }
   ],
   "execution_count": 25
  },
  {
   "metadata": {},
   "cell_type": "code",
   "source": [
    "import gradio as gr\n",
    "\n",
    "demo = gr.load('distilbert-base-uncased-finetuned-sst-2-english', src='models')\n",
    "demo.launch(debug=True)"
   ],
   "id": "dffd9ac5d1e5e316",
   "outputs": [],
   "execution_count": null
  },
  {
   "metadata": {
    "ExecuteTime": {
     "end_time": "2024-09-21T07:19:58.428214Z",
     "start_time": "2024-09-21T07:19:58.068081Z"
    }
   },
   "cell_type": "code",
   "source": [
    "def add_even(x, y):\n",
    "    if not validate_even(x):\n",
    "        raise gr.Error('FIRST NUMBER MUST BE EVEN!')\n",
    "    if not validate_even(y):\n",
    "        gr.Warning('SECOND NUMBER SHOULD BE EVEN!')\n",
    "    gr.Info('BOTH NUMBERS ARE OK!')\n",
    "    return x+y\n",
    "\n",
    "def validate_even(x):\n",
    "    return x % 2 == 0\n",
    "\n",
    "iface =  gr.Interface(fn=add_even, inputs=[gr.Number(), gr.Number()], outputs=gr.Number())\n",
    "iface.launch()"
   ],
   "id": "2264466c6a0dca5",
   "outputs": [
    {
     "name": "stdout",
     "output_type": "stream",
     "text": [
      "Running on local URL:  http://127.0.0.1:7882\n",
      "\n",
      "To create a public link, set `share=True` in `launch()`.\n"
     ]
    },
    {
     "data": {
      "text/plain": [
       "<IPython.core.display.HTML object>"
      ],
      "text/html": [
       "<div><iframe src=\"http://127.0.0.1:7882/\" width=\"100%\" height=\"500\" allow=\"autoplay; camera; microphone; clipboard-read; clipboard-write;\" frameborder=\"0\" allowfullscreen></iframe></div>"
      ]
     },
     "metadata": {},
     "output_type": "display_data"
    },
    {
     "data": {
      "text/plain": []
     },
     "execution_count": 41,
     "metadata": {},
     "output_type": "execute_result"
    }
   ],
   "execution_count": 41
  },
  {
   "metadata": {
    "ExecuteTime": {
     "end_time": "2024-09-21T07:22:29.088862Z",
     "start_time": "2024-09-21T07:22:28.715223Z"
    }
   },
   "cell_type": "code",
   "source": [
    "def echo(num):\n",
    "    return num\n",
    "\n",
    "iface =  gr.Interface(fn=echo, inputs=[gr.Number()], outputs=gr.Number(), theme=gr.themes.Soft())\n",
    "iface.launch()"
   ],
   "id": "54ea3fc69e862d1c",
   "outputs": [
    {
     "name": "stdout",
     "output_type": "stream",
     "text": [
      "Running on local URL:  http://127.0.0.1:7885\n",
      "\n",
      "To create a public link, set `share=True` in `launch()`.\n"
     ]
    },
    {
     "data": {
      "text/plain": [
       "<IPython.core.display.HTML object>"
      ],
      "text/html": [
       "<div><iframe src=\"http://127.0.0.1:7885/\" width=\"100%\" height=\"500\" allow=\"autoplay; camera; microphone; clipboard-read; clipboard-write;\" frameborder=\"0\" allowfullscreen></iframe></div>"
      ]
     },
     "metadata": {},
     "output_type": "display_data"
    },
    {
     "data": {
      "text/plain": []
     },
     "execution_count": 44,
     "metadata": {},
     "output_type": "execute_result"
    }
   ],
   "execution_count": 44
  },
  {
   "metadata": {},
   "cell_type": "code",
   "outputs": [],
   "execution_count": null,
   "source": "",
   "id": "c5d87165f2342c76"
  }
 ],
 "metadata": {
  "kernelspec": {
   "display_name": "Python 3",
   "language": "python",
   "name": "python3"
  },
  "language_info": {
   "codemirror_mode": {
    "name": "ipython",
    "version": 2
   },
   "file_extension": ".py",
   "mimetype": "text/x-python",
   "name": "python",
   "nbconvert_exporter": "python",
   "pygments_lexer": "ipython2",
   "version": "2.7.6"
  }
 },
 "nbformat": 4,
 "nbformat_minor": 5
}
